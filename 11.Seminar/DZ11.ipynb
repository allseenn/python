{
  "cells": [
    {
      "cell_type": "code",
      "execution_count": null,
      "metadata": {
        "id": "AQInCXWv4hRE"
      },
      "outputs": [],
      "source": [
        "from sympy import *\n",
        "from sympy.plotting import plot\n",
        "from sympy.solvers.inequalities import solve_univariate_inequality"
      ]
    },
    {
      "cell_type": "code",
      "execution_count": null,
      "metadata": {
        "id": "CGS76NxE4mE1"
      },
      "outputs": [],
      "source": [
        "x = Symbol('x')\n",
        "y = Symbol('y')"
      ]
    },
    {
      "cell_type": "code",
      "execution_count": null,
      "metadata": {
        "colab": {
          "base_uri": "https://localhost:8080/",
          "height": 39
        },
        "id": "97g7cily4s2C",
        "outputId": "18039442-e122-4450-d571-7ae8650a88fd"
      },
      "outputs": [],
      "source": [
        "f13 = 5*x**2 + 10*x -30\n",
        "f13"
      ]
    },
    {
      "cell_type": "code",
      "execution_count": null,
      "metadata": {
        "colab": {
          "base_uri": "https://localhost:8080/",
          "height": 311
        },
        "id": "dtuGsXku4wKt",
        "outputId": "d0908aa3-988d-4f4d-9a85-1c4aac71a6cc"
      },
      "outputs": [],
      "source": [
        "#4. Построить график\n",
        "plot(f13)"
      ]
    },
    {
      "cell_type": "code",
      "execution_count": null,
      "metadata": {
        "colab": {
          "base_uri": "https://localhost:8080/",
          "height": 39
        },
        "id": "3nzbwTPp5npe",
        "outputId": "650dfabf-4b7d-4db0-878f-e706c2caf941"
      },
      "outputs": [],
      "source": [
        "# Вычислили производную первого порядка исходной функции\n",
        "diff(f13)"
      ]
    },
    {
      "cell_type": "code",
      "execution_count": null,
      "metadata": {
        "colab": {
          "base_uri": "https://localhost:8080/",
          "height": 39
        },
        "id": "VG8QnKiF4zPv",
        "outputId": "45e60444-07e6-4f52-e8eb-e751684a6576"
      },
      "outputs": [],
      "source": [
        "f14 = 10 * x + 10\n",
        "f14"
      ]
    },
    {
      "cell_type": "code",
      "execution_count": null,
      "metadata": {
        "colab": {
          "base_uri": "https://localhost:8080/"
        },
        "id": "9R5T1UZF41tZ",
        "outputId": "c21535e9-5608-469e-8622-caecd0e5cef1"
      },
      "outputs": [],
      "source": [
        "# 5. Вычислить вершину\n",
        "extremum = solve(f14)\n",
        "extremum "
      ]
    },
    {
      "cell_type": "code",
      "execution_count": null,
      "metadata": {
        "colab": {
          "base_uri": "https://localhost:8080/",
          "height": 314
        },
        "id": "zni_5A7F445-",
        "outputId": "82c8b3a4-f043-49b0-d15f-5abf1824c278"
      },
      "outputs": [],
      "source": [
        "#3. Найти интервалы, на которых функция убывает\n",
        "plot(f14,(x,-2,0))"
      ]
    },
    {
      "cell_type": "code",
      "execution_count": null,
      "metadata": {
        "colab": {
          "base_uri": "https://localhost:8080/",
          "height": 297
        },
        "id": "S21ue2ozDIcW",
        "outputId": "79ff0213-2a55-4901-8aaa-4ef7d31a55a5"
      },
      "outputs": [],
      "source": [
        "#3. Найти интервалы, на которых функция убывает\n",
        "fun1 = plot(f14,(x,-2,0), show=False)\n",
        "fun1.show()\n"
      ]
    },
    {
      "cell_type": "code",
      "execution_count": null,
      "metadata": {
        "colab": {
          "base_uri": "https://localhost:8080/"
        },
        "id": "m1kD_6SGBLA5",
        "outputId": "ced84755-b26c-4527-974a-8f5f55a522d4"
      },
      "outputs": [],
      "source": [
        "print(f'Функция убывает от -∞  до {extremum } и Функция возрастает с {extremum } до +∞')"
      ]
    },
    {
      "cell_type": "code",
      "execution_count": null,
      "metadata": {
        "id": "ZnVbl67X6EIB"
      },
      "outputs": [],
      "source": [
        "#1. Определить корни:\n",
        "x1, x2 = solve(f13)\n"
      ]
    },
    {
      "cell_type": "code",
      "execution_count": null,
      "metadata": {
        "colab": {
          "base_uri": "https://localhost:8080/"
        },
        "id": "asnnoMNf6ayI",
        "outputId": "3eb70890-c277-4a2a-aa35-57db83897cd8"
      },
      "outputs": [],
      "source": [
        "print('Первый корень  = ', x1.evalf())"
      ]
    },
    {
      "cell_type": "code",
      "execution_count": null,
      "metadata": {
        "colab": {
          "base_uri": "https://localhost:8080/"
        },
        "id": "-xTK7_SM708y",
        "outputId": "e3d288ba-93ac-4720-a781-f430db4106e6"
      },
      "outputs": [],
      "source": [
        "print('Второй корень  = ', x2.evalf())"
      ]
    },
    {
      "cell_type": "code",
      "execution_count": null,
      "metadata": {
        "colab": {
          "base_uri": "https://localhost:8080/"
        },
        "id": "0rrvL5fS-FgM",
        "outputId": "73c48abb-1d90-461d-c4a4-9a99422548d1"
      },
      "outputs": [],
      "source": [
        "print(f'Функция {f13} больше нуля от -00 до {round(x2.evalf(),2)} и от {round(x1.evalf(),2)} до +00')\n",
        "print(f'Функция {f13} меньше нуля от {round(x2.evalf(),2)} и до {round(x1.evalf(),2)}')"
      ]
    },
    {
      "cell_type": "code",
      "execution_count": null,
      "metadata": {
        "colab": {
          "base_uri": "https://localhost:8080/",
          "height": 39
        },
        "id": "wt3136SGFiBl",
        "outputId": "01111943-a9ca-4e5e-88cd-94d8c84f1add"
      },
      "outputs": [],
      "source": [
        "#f15 = -12*x**4*sin(cos(x)) - 18*x**3+5*x**2 + 10*x - 30\n",
        "#f15 = -2*x**4 + 18*x**3+5*x**2 + 10*x + 150\n",
        "f15 = -5*x**2 + 10*x - 150\n",
        "#f15 = 0.1*x**4 - 10*x**2 - 90\n",
        "f15\n"
      ]
    },
    {
      "cell_type": "code",
      "execution_count": null,
      "metadata": {
        "colab": {
          "base_uri": "https://localhost:8080/",
          "height": 297
        },
        "id": "84cu4_oqFylg",
        "outputId": "a9bb33e8-bb82-47d6-b78c-ee9b5f24549a"
      },
      "outputs": [],
      "source": [
        "#fun2 = plot(f15,(x,-30,200), show=False)\n",
        "fun2 = plot(f15,(x,-11,12), show=False)\n",
        "fun2.show()"
      ]
    },
    {
      "cell_type": "code",
      "execution_count": null,
      "metadata": {
        "id": "nPIQ1iqiGCGu"
      },
      "outputs": [],
      "source": [
        "f16 = diff(f15)"
      ]
    },
    {
      "cell_type": "code",
      "execution_count": null,
      "metadata": {
        "colab": {
          "base_uri": "https://localhost:8080/",
          "height": 296
        },
        "id": "-2UAH-mPGbTu",
        "outputId": "e3d39de9-6168-4eea-bab9-befc3b4979c3"
      },
      "outputs": [],
      "source": [
        "fun3 = plot(f16, (x,-1.2,0.8), show=False)\n",
        "fun3.show()"
      ]
    },
    {
      "cell_type": "code",
      "execution_count": null,
      "metadata": {
        "colab": {
          "base_uri": "https://localhost:8080/"
        },
        "id": "A1sBECHiHlyM",
        "outputId": "48d3a62f-09a5-40df-d31a-c261dd1dfd57"
      },
      "outputs": [],
      "source": [
        "solve(f15)"
      ]
    },
    {
      "cell_type": "code",
      "execution_count": null,
      "metadata": {
        "id": "8Y0x-u_gMTmW"
      },
      "outputs": [],
      "source": []
    }
  ],
  "metadata": {
    "colab": {
      "collapsed_sections": [],
      "provenance": []
    },
    "kernelspec": {
      "display_name": "Python 3",
      "name": "python3"
    },
    "language_info": {
      "name": "python"
    }
  },
  "nbformat": 4,
  "nbformat_minor": 0
}
